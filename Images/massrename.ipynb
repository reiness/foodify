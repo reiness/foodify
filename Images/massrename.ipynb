{
 "cells": [
  {
   "cell_type": "code",
   "execution_count": 2,
   "metadata": {},
   "outputs": [
    {
     "name": "stdout",
     "output_type": "stream",
     "text": [
      "Renamed: Bawang putih\\360009.jpg -> Bawang putih\\Bawang putih_1.jpg\n",
      "Renamed: Bawang putih\\500-garlic-loose-un-branded-whole-no-original-imagj4upweydsqjc.jpg -> Bawang putih\\Bawang putih_2.jpg\n",
      "Renamed: Bawang putih\\61c9zV0SSHL._AC_UF1000,1000_QL80_.jpg -> Bawang putih\\Bawang putih_3.jpg\n",
      "Renamed: Bawang putih\\GL451-b_350x350_4a50f1e4-9939-47ed-8f2c-6a1b85bfc298.jpg -> Bawang putih\\Bawang putih_4.jpg\n",
      "Renamed: Bawang putih\\Image_1.jpg -> Bawang putih\\Bawang putih_5.jpg\n",
      "Renamed: Bawang putih\\Image_10.jpg -> Bawang putih\\Bawang putih_6.jpg\n",
      "Renamed: Bawang putih\\Image_11.jpg -> Bawang putih\\Bawang putih_7.jpg\n",
      "Renamed: Bawang putih\\Image_12.jpg -> Bawang putih\\Bawang putih_8.jpg\n",
      "Renamed: Bawang putih\\Image_13.jpg -> Bawang putih\\Bawang putih_9.jpg\n",
      "Renamed: Bawang putih\\Image_14.jpg -> Bawang putih\\Bawang putih_10.jpg\n",
      "Renamed: Bawang putih\\Image_15.jpg -> Bawang putih\\Bawang putih_11.jpg\n",
      "Renamed: Bawang putih\\Image_16.jpg -> Bawang putih\\Bawang putih_12.jpg\n",
      "Renamed: Bawang putih\\Image_17.jpg -> Bawang putih\\Bawang putih_13.jpg\n",
      "Renamed: Bawang putih\\Image_18.jpg -> Bawang putih\\Bawang putih_14.jpg\n",
      "Renamed: Bawang putih\\Image_19.jpg -> Bawang putih\\Bawang putih_15.jpg\n",
      "Renamed: Bawang putih\\Image_2.jpg -> Bawang putih\\Bawang putih_16.jpg\n",
      "Renamed: Bawang putih\\Image_20.jpg -> Bawang putih\\Bawang putih_17.jpg\n",
      "Renamed: Bawang putih\\Image_22.jpg -> Bawang putih\\Bawang putih_18.jpg\n",
      "Renamed: Bawang putih\\Image_23.jpg -> Bawang putih\\Bawang putih_19.jpg\n",
      "Renamed: Bawang putih\\Image_24.jpg -> Bawang putih\\Bawang putih_20.jpg\n",
      "Renamed: Bawang putih\\Image_28.JPG -> Bawang putih\\Bawang putih_21.jpg\n",
      "Renamed: Bawang putih\\Image_29.jpg -> Bawang putih\\Bawang putih_22.jpg\n",
      "Renamed: Bawang putih\\Image_3.jpg -> Bawang putih\\Bawang putih_23.jpg\n",
      "Renamed: Bawang putih\\Image_30.jpg -> Bawang putih\\Bawang putih_24.jpg\n",
      "Renamed: Bawang putih\\Image_4.JPG -> Bawang putih\\Bawang putih_25.jpg\n",
      "Renamed: Bawang putih\\Image_5.jpg -> Bawang putih\\Bawang putih_26.jpg\n",
      "Renamed: Bawang putih\\Image_6.jpg -> Bawang putih\\Bawang putih_27.jpg\n",
      "Renamed: Bawang putih\\Image_7.jpg -> Bawang putih\\Bawang putih_28.jpg\n",
      "Renamed: Bawang putih\\Image_8.jpg -> Bawang putih\\Bawang putih_29.jpg\n",
      "Renamed: Bawang putih\\Imasssge_9.jpg -> Bawang putih\\Bawang putih_30.jpg\n",
      "Renamed: Bawang putih\\Single-Clove-Garlic1-e1644565585538.jpg -> Bawang putih\\Bawang putih_31.jpg\n"
     ]
    }
   ],
   "source": [
    "import os\n",
    "\n",
    "def rename_files(folder_path):\n",
    "    # Get a list of all files in the folder\n",
    "    files = [f for f in os.listdir(folder_path) if os.path.isfile(os.path.join(folder_path, f))]\n",
    "\n",
    "    # Filter only .jpg files\n",
    "    jpg_files = [f for f in files if f.lower().endswith('.jpg')]\n",
    "\n",
    "    # Rename files\n",
    "    for index, jpg_file in enumerate(jpg_files):\n",
    "        # Construct the new file name\n",
    "        new_name = f\"{os.path.basename(folder_path)}_{index + 1}.jpg\"\n",
    "\n",
    "        # Build the full paths\n",
    "        old_path = os.path.join(folder_path, jpg_file)\n",
    "        new_path = os.path.join(folder_path, new_name)\n",
    "\n",
    "        # Rename the file\n",
    "        os.rename(old_path, new_path)\n",
    "        print(f\"Renamed: {old_path} -> {new_path}\")\n",
    "\n",
    "# Example usage\n",
    "folder_path = 'Bawang putih'\n",
    "rename_files(folder_path)\n"
   ]
  }
 ],
 "metadata": {
  "kernelspec": {
   "display_name": "Python 3",
   "language": "python",
   "name": "python3"
  },
  "language_info": {
   "codemirror_mode": {
    "name": "ipython",
    "version": 3
   },
   "file_extension": ".py",
   "mimetype": "text/x-python",
   "name": "python",
   "nbconvert_exporter": "python",
   "pygments_lexer": "ipython3",
   "version": "3.9.13"
  }
 },
 "nbformat": 4,
 "nbformat_minor": 2
}
