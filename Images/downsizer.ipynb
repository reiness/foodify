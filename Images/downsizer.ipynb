{
 "cells": [
  {
   "cell_type": "code",
   "execution_count": 2,
   "metadata": {},
   "outputs": [
    {
     "name": "stdout",
     "output_type": "stream",
     "text": [
      "Resized Bawang merah_1.jpg to (256, 256)\n",
      "Resized Bawang merah_10.jpg to (256, 256)\n",
      "Resized Bawang merah_11.jpg to (256, 256)\n",
      "Resized Bawang merah_12.jpg to (256, 256)\n",
      "Resized Bawang merah_13.jpg to (256, 256)\n",
      "Resized Bawang merah_14.jpg to (256, 256)\n",
      "Resized Bawang merah_15.jpg to (256, 256)\n",
      "Resized Bawang merah_16.jpg to (256, 256)\n",
      "Resized Bawang merah_17.jpg to (256, 256)\n",
      "Resized Bawang merah_18.jpg to (256, 256)\n",
      "Resized Bawang merah_19.jpg to (256, 256)\n",
      "Resized Bawang merah_2.jpg to (256, 256)\n",
      "Resized Bawang merah_20.jpg to (256, 256)\n",
      "Resized Bawang merah_3.jpg to (256, 256)\n",
      "Resized Bawang merah_4.jpg to (256, 256)\n",
      "Resized Bawang merah_5.jpg to (256, 256)\n",
      "Resized Bawang merah_6.jpg to (256, 256)\n",
      "Resized Bawang merah_7.jpg to (256, 256)\n",
      "Resized Bawang merah_8.jpg to (256, 256)\n",
      "Resized Bawang merah_9.jpg to (256, 256)\n"
     ]
    }
   ],
   "source": [
    "from PIL import Image\n",
    "import os\n",
    "\n",
    "def resize_images(input_folder, output_folder, target_size=(256, 256)):\n",
    "    # Ensure the output folder exists\n",
    "    if not os.path.exists(output_folder):\n",
    "        os.makedirs(output_folder)\n",
    "\n",
    "    # Iterate through all files in the input folder\n",
    "    for filename in os.listdir(input_folder):\n",
    "        input_path = os.path.join(input_folder, filename)\n",
    "        output_path = os.path.join(output_folder, filename)\n",
    "\n",
    "        try:\n",
    "            # Open the image\n",
    "            with Image.open(input_path) as img:\n",
    "                # Resize the image\n",
    "                resized_img = img.resize(target_size)\n",
    "\n",
    "                # Save the resized image\n",
    "                resized_img.save(output_path)\n",
    "                print(f\"Resized {filename} to {target_size}\")\n",
    "\n",
    "        except Exception as e:\n",
    "            print(f\"Error processing {filename}: {e}\")\n",
    "\n",
    "# Specify your input and output folders\n",
    "input_folder = 'Bawang merah'  # Replace 'x' with your actual folder path\n",
    "output_folder = '001'\n",
    "\n",
    "# Resize images in the input folder and save to the output folder\n",
    "resize_images(input_folder, output_folder)\n"
   ]
  },
  {
   "cell_type": "code",
   "execution_count": null,
   "metadata": {},
   "outputs": [],
   "source": []
  }
 ],
 "metadata": {
  "kernelspec": {
   "display_name": "Python 3",
   "language": "python",
   "name": "python3"
  },
  "language_info": {
   "codemirror_mode": {
    "name": "ipython",
    "version": 3
   },
   "file_extension": ".py",
   "mimetype": "text/x-python",
   "name": "python",
   "nbconvert_exporter": "python",
   "pygments_lexer": "ipython3",
   "version": "3.9.13"
  }
 },
 "nbformat": 4,
 "nbformat_minor": 2
}
