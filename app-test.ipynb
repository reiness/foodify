{
 "cells": [
  {
   "cell_type": "code",
   "execution_count": 7,
   "metadata": {},
   "outputs": [],
   "source": [
    "import onnxruntime\n",
    "from PIL import Image\n",
    "import numpy as np"
   ]
  },
  {
   "cell_type": "code",
   "execution_count": 14,
   "metadata": {},
   "outputs": [],
   "source": [
    "# Load the ONNX model\n",
    "model_path = \"model_collections/two-labels.onnx\"\n",
    "ort_session = onnxruntime.InferenceSession(model_path)"
   ]
  },
  {
   "cell_type": "code",
   "execution_count": 23,
   "metadata": {},
   "outputs": [],
   "source": [
    "# Load the image\n",
    "image_path = \"shallot.jpg\"\n",
    "image = Image.open(image_path)"
   ]
  },
  {
   "cell_type": "code",
   "execution_count": 27,
   "metadata": {},
   "outputs": [
    {
     "ename": "InvalidArgument",
     "evalue": "[ONNXRuntimeError] : 2 : INVALID_ARGUMENT : Got invalid dimensions for input: images for the following indices\n index: 1 Got: 256 Expected: 3\n index: 2 Got: 256 Expected: 640\n index: 3 Got: 3 Expected: 640\n Please fix either the inputs or the model.",
     "output_type": "error",
     "traceback": [
      "\u001b[1;31m---------------------------------------------------------------------------\u001b[0m",
      "\u001b[1;31mInvalidArgument\u001b[0m                           Traceback (most recent call last)",
      "\u001b[1;32md:\\coding-project\\foodify\\app-test.ipynb Cell 4\u001b[0m line \u001b[0;36m1\n\u001b[0;32m     <a href='vscode-notebook-cell:/d%3A/coding-project/foodify/app-test.ipynb#W0sZmlsZQ%3D%3D?line=9'>10</a>\u001b[0m \u001b[39m# Run inference\u001b[39;00m\n\u001b[0;32m     <a href='vscode-notebook-cell:/d%3A/coding-project/foodify/app-test.ipynb#W0sZmlsZQ%3D%3D?line=10'>11</a>\u001b[0m input_feed \u001b[39m=\u001b[39m {\u001b[39m\"\u001b[39m\u001b[39mimages\u001b[39m\u001b[39m\"\u001b[39m: input_data}  \u001b[39m# Replace \"images\" with the actual input name from your model\u001b[39;00m\n\u001b[1;32m---> <a href='vscode-notebook-cell:/d%3A/coding-project/foodify/app-test.ipynb#W0sZmlsZQ%3D%3D?line=11'>12</a>\u001b[0m outputs \u001b[39m=\u001b[39m ort_session\u001b[39m.\u001b[39;49mrun(\u001b[39mNone\u001b[39;49;00m, input_feed\u001b[39m=\u001b[39;49minput_feed)\n\u001b[0;32m     <a href='vscode-notebook-cell:/d%3A/coding-project/foodify/app-test.ipynb#W0sZmlsZQ%3D%3D?line=13'>14</a>\u001b[0m \u001b[39m# Process the output\u001b[39;00m\n\u001b[0;32m     <a href='vscode-notebook-cell:/d%3A/coding-project/foodify/app-test.ipynb#W0sZmlsZQ%3D%3D?line=14'>15</a>\u001b[0m \u001b[39m# 'outputs' will be a list containing the model's predictions\u001b[39;00m\n\u001b[0;32m     <a href='vscode-notebook-cell:/d%3A/coding-project/foodify/app-test.ipynb#W0sZmlsZQ%3D%3D?line=15'>16</a>\u001b[0m \u001b[39m# In this example, assuming a classification model, you might extract the class probabilities\u001b[39;00m\n\u001b[0;32m     <a href='vscode-notebook-cell:/d%3A/coding-project/foodify/app-test.ipynb#W0sZmlsZQ%3D%3D?line=16'>17</a>\u001b[0m class_probabilities \u001b[39m=\u001b[39m outputs[\u001b[39m0\u001b[39m]\n",
      "File \u001b[1;32mc:\\Users\\user\\AppData\\Local\\Programs\\Python\\Python311\\Lib\\site-packages\\onnxruntime\\capi\\onnxruntime_inference_collection.py:220\u001b[0m, in \u001b[0;36mSession.run\u001b[1;34m(self, output_names, input_feed, run_options)\u001b[0m\n\u001b[0;32m    218\u001b[0m     output_names \u001b[39m=\u001b[39m [output\u001b[39m.\u001b[39mname \u001b[39mfor\u001b[39;00m output \u001b[39min\u001b[39;00m \u001b[39mself\u001b[39m\u001b[39m.\u001b[39m_outputs_meta]\n\u001b[0;32m    219\u001b[0m \u001b[39mtry\u001b[39;00m:\n\u001b[1;32m--> 220\u001b[0m     \u001b[39mreturn\u001b[39;00m \u001b[39mself\u001b[39;49m\u001b[39m.\u001b[39;49m_sess\u001b[39m.\u001b[39;49mrun(output_names, input_feed, run_options)\n\u001b[0;32m    221\u001b[0m \u001b[39mexcept\u001b[39;00m C\u001b[39m.\u001b[39mEPFail \u001b[39mas\u001b[39;00m err:\n\u001b[0;32m    222\u001b[0m     \u001b[39mif\u001b[39;00m \u001b[39mself\u001b[39m\u001b[39m.\u001b[39m_enable_fallback:\n",
      "\u001b[1;31mInvalidArgument\u001b[0m: [ONNXRuntimeError] : 2 : INVALID_ARGUMENT : Got invalid dimensions for input: images for the following indices\n index: 1 Got: 256 Expected: 3\n index: 2 Got: 256 Expected: 640\n index: 3 Got: 3 Expected: 640\n Please fix either the inputs or the model."
     ]
    }
   ],
   "source": [
    "\n",
    "# Assuming your model expects a specific input size and format\n",
    "# Resize, normalize, and convert the image to a NumPy array\n",
    "input_size = (256, 256)  # Adjust the size based on your model's requirements\n",
    "image = image.resize(input_size)\n",
    "input_data = np.array(image, dtype=np.float32) / 255.0  # Convert to float32 and normalize to [0, 1]\n",
    "\n",
    "# If your model expects a batch dimension, add it to the input data\n",
    "input_data = np.expand_dims(input_data, axis=0)\n",
    "\n",
    "# Run inference\n",
    "input_feed = {\"images\": input_data}  # Replace \"images\" with the actual input name from your model\n",
    "outputs = ort_session.run(None, input_feed=input_feed)\n",
    "\n",
    "# Process the output\n",
    "# 'outputs' will be a list containing the model's predictions\n",
    "# In this example, assuming a classification model, you might extract the class probabilities\n",
    "class_probabilities = outputs[0]\n",
    "# Further processing based on your model's output format and task\n",
    "\n",
    "print(class_probabilities)"
   ]
  },
  {
   "cell_type": "code",
   "execution_count": 5,
   "metadata": {},
   "outputs": [
    {
     "ename": "TypeError",
     "evalue": "Session.run() missing 1 required positional argument: 'input_feed'",
     "output_type": "error",
     "traceback": [
      "\u001b[1;31m---------------------------------------------------------------------------\u001b[0m",
      "\u001b[1;31mTypeError\u001b[0m                                 Traceback (most recent call last)",
      "\u001b[1;32md:\\coding-project\\foodify\\app-test.ipynb Cell 2\u001b[0m line \u001b[0;36m1\n\u001b[1;32m----> <a href='vscode-notebook-cell:/d%3A/coding-project/foodify/app-test.ipynb#W1sZmlsZQ%3D%3D?line=0'>1</a>\u001b[0m test \u001b[39m=\u001b[39m model\u001b[39m.\u001b[39;49mrun(\u001b[39m\"\u001b[39;49m\u001b[39mshallot.jpg\u001b[39;49m\u001b[39m\"\u001b[39;49m)\n",
      "\u001b[1;31mTypeError\u001b[0m: Session.run() missing 1 required positional argument: 'input_feed'"
     ]
    }
   ],
   "source": [
    "test = model.run(\"shallot.jpg\")"
   ]
  },
  {
   "cell_type": "code",
   "execution_count": null,
   "metadata": {},
   "outputs": [],
   "source": []
  }
 ],
 "metadata": {
  "kernelspec": {
   "display_name": "Python 3",
   "language": "python",
   "name": "python3"
  },
  "language_info": {
   "codemirror_mode": {
    "name": "ipython",
    "version": 3
   },
   "file_extension": ".py",
   "mimetype": "text/x-python",
   "name": "python",
   "nbconvert_exporter": "python",
   "pygments_lexer": "ipython3",
   "version": "3.11.4"
  }
 },
 "nbformat": 4,
 "nbformat_minor": 2
}
